{
  "nbformat": 4,
  "nbformat_minor": 0,
  "metadata": {
    "colab": {
      "name": "Amazon-Monitor-Deals-Data",
      "provenance": [],
      "collapsed_sections": [],
      "authorship_tag": "ABX9TyNYCCw1uT6r3X8snhhMr6t1",
      "include_colab_link": true
    },
    "kernelspec": {
      "name": "python3",
      "display_name": "Python 3"
    },
    "language_info": {
      "name": "python"
    }
  },
  "cells": [
    {
      "cell_type": "markdown",
      "metadata": {
        "id": "view-in-github",
        "colab_type": "text"
      },
      "source": [
        "<a href=\"https://colab.research.google.com/github/aruna09/Amazon-Monitor-Deals-Data-Analysis/blob/main/Amazon_Monitor_Deals_Data.ipynb\" target=\"_parent\"><img src=\"https://colab.research.google.com/assets/colab-badge.svg\" alt=\"Open In Colab\"/></a>"
      ]
    },
    {
      "cell_type": "markdown",
      "metadata": {
        "id": "LLS2mSswUjdF"
      },
      "source": [
        "## Loading data from Drive"
      ]
    },
    {
      "cell_type": "code",
      "metadata": {
        "colab": {
          "base_uri": "https://localhost:8080/"
        },
        "id": "EGIJd_1TZkIM",
        "outputId": "42905ba0-d099-4bc5-89cf-d12b1600b41a"
      },
      "source": [
        "from google.colab import drive\n",
        "drive.mount('/content/drive')"
      ],
      "execution_count": null,
      "outputs": [
        {
          "output_type": "stream",
          "name": "stdout",
          "text": [
            "Mounted at /content/drive\n"
          ]
        }
      ]
    },
    {
      "cell_type": "code",
      "metadata": {
        "id": "ndWWhTbdadkD"
      },
      "source": [
        "import os\n",
        "import pandas as pd\n",
        "import matplotlib.pyplot as plt\n",
        "import seaborn as sns"
      ],
      "execution_count": null,
      "outputs": []
    },
    {
      "cell_type": "code",
      "metadata": {
        "id": "MMIhnNt6aR0W"
      },
      "source": [
        "path = \"/content/drive/My Drive/Amazon-Monitor-Deals\"\n",
        "os.chdir(path)"
      ],
      "execution_count": null,
      "outputs": []
    },
    {
      "cell_type": "markdown",
      "metadata": {
        "id": "SxWQTxpfY6W2"
      },
      "source": [
        "## Reading training data"
      ]
    },
    {
      "cell_type": "code",
      "metadata": {
        "id": "Pk6Wt8LCapCR"
      },
      "source": [
        "data = pd.read_csv('monitor-deals.csv')"
      ],
      "execution_count": null,
      "outputs": []
    },
    {
      "cell_type": "code",
      "metadata": {
        "id": "JtMdAwu_a0oH"
      },
      "source": [
        "data.head()\n",
        "train = data[['Item model number', 'Item Weight in Kg', 'Length(In)', 'Width(In)', 'Height(In)', 'Manufacturer', 'ASIN', 'Brand','Price' ]]"
      ],
      "execution_count": null,
      "outputs": []
    },
    {
      "cell_type": "code",
      "metadata": {
        "id": "avShGL1UZJDE"
      },
      "source": [
        "data.head()"
      ],
      "execution_count": null,
      "outputs": []
    },
    {
      "cell_type": "code",
      "metadata": {
        "colab": {
          "base_uri": "https://localhost:8080/",
          "height": 206
        },
        "id": "GN4Dklai1M_a",
        "outputId": "7f8fd2a5-0b6f-4c17-d286-03352c8c59bc"
      },
      "source": [
        "train.head()"
      ],
      "execution_count": null,
      "outputs": [
        {
          "output_type": "execute_result",
          "data": {
            "text/html": [
              "<div>\n",
              "<style scoped>\n",
              "    .dataframe tbody tr th:only-of-type {\n",
              "        vertical-align: middle;\n",
              "    }\n",
              "\n",
              "    .dataframe tbody tr th {\n",
              "        vertical-align: top;\n",
              "    }\n",
              "\n",
              "    .dataframe thead th {\n",
              "        text-align: right;\n",
              "    }\n",
              "</style>\n",
              "<table border=\"1\" class=\"dataframe\">\n",
              "  <thead>\n",
              "    <tr style=\"text-align: right;\">\n",
              "      <th></th>\n",
              "      <th>Item model number</th>\n",
              "      <th>Item Weight in Kg</th>\n",
              "      <th>Length(In)</th>\n",
              "      <th>Width(In)</th>\n",
              "      <th>Height(In)</th>\n",
              "      <th>Manufacturer</th>\n",
              "      <th>ASIN</th>\n",
              "      <th>Brand</th>\n",
              "      <th>Price</th>\n",
              "    </tr>\n",
              "  </thead>\n",
              "  <tbody>\n",
              "    <tr>\n",
              "      <th>0</th>\n",
              "      <td>E248B-FPT168S</td>\n",
              "      <td>2.7765</td>\n",
              "      <td>21.21</td>\n",
              "      <td>15.75</td>\n",
              "      <td>5.95</td>\n",
              "      <td>Sceptre</td>\n",
              "      <td>B097QK6W46</td>\n",
              "      <td>Sceptre</td>\n",
              "      <td>$219.97</td>\n",
              "    </tr>\n",
              "    <tr>\n",
              "      <th>1</th>\n",
              "      <td>E275B-FWD240</td>\n",
              "      <td>4.698</td>\n",
              "      <td>24.13</td>\n",
              "      <td>21.14</td>\n",
              "      <td>9.27</td>\n",
              "      <td>Sceptre</td>\n",
              "      <td>B0911MSYGW</td>\n",
              "      <td>Sceptre</td>\n",
              "      <td>$298.97</td>\n",
              "    </tr>\n",
              "    <tr>\n",
              "      <th>2</th>\n",
              "      <td>E248W-19203R</td>\n",
              "      <td>2.5965</td>\n",
              "      <td>21.59</td>\n",
              "      <td>7.02</td>\n",
              "      <td>15.83</td>\n",
              "      <td>Sceptre Inc.</td>\n",
              "      <td>B0773ZY26F</td>\n",
              "      <td>Sceptre</td>\n",
              "      <td>$139.97</td>\n",
              "    </tr>\n",
              "    <tr>\n",
              "      <th>3</th>\n",
              "      <td>E249W-FPT</td>\n",
              "      <td>2.709</td>\n",
              "      <td>21.25</td>\n",
              "      <td>15.53</td>\n",
              "      <td>7.03</td>\n",
              "      <td>Sceptre</td>\n",
              "      <td>B092XF3W9T</td>\n",
              "      <td>Sceptre</td>\n",
              "      <td>$154.97</td>\n",
              "    </tr>\n",
              "    <tr>\n",
              "      <th>4</th>\n",
              "      <td>E209W-16003RT</td>\n",
              "      <td>1.9305</td>\n",
              "      <td>18.01</td>\n",
              "      <td>7.02</td>\n",
              "      <td>13.58</td>\n",
              "      <td>Sceptre</td>\n",
              "      <td>B078HMK7S3</td>\n",
              "      <td>Sceptre</td>\n",
              "      <td>$119.97</td>\n",
              "    </tr>\n",
              "  </tbody>\n",
              "</table>\n",
              "</div>"
            ],
            "text/plain": [
              "  Item model number Item Weight in Kg  ...    Brand     Price\n",
              "0     E248B-FPT168S            2.7765  ...  Sceptre  $219.97 \n",
              "1      E275B-FWD240             4.698  ...  Sceptre  $298.97 \n",
              "2      E248W-19203R            2.5965  ...  Sceptre  $139.97 \n",
              "3         E249W-FPT             2.709  ...  Sceptre  $154.97 \n",
              "4     E209W-16003RT            1.9305  ...  Sceptre  $119.97 \n",
              "\n",
              "[5 rows x 9 columns]"
            ]
          },
          "metadata": {},
          "execution_count": 7
        }
      ]
    },
    {
      "cell_type": "code",
      "metadata": {
        "id": "ixfrsxsnMTjY"
      },
      "source": [
        "features = train[['ASIN', 'Item model number', 'Item Weight in Kg', 'Manufacturer',\t'Brand', 'Length(In)', 'Width(In)', 'Height(In)', 'Price']]"
      ],
      "execution_count": null,
      "outputs": []
    },
    {
      "cell_type": "markdown",
      "metadata": {
        "id": "4TaFb3T5pNps"
      },
      "source": [
        "## Preprocessing\n",
        "\n",
        "This data is directly scraped from the Amazon and has a lot of scope for pre-processing.\n",
        "\n",
        "I have done some of these in an excel/google sheet, because it was easy.\n",
        "\n",
        "1. Drop duplicate rows\n",
        "2. Convert categorial columns to one case, lowercase in this scenario.\n",
        "3. Transform the Price($) to Price(Rs)\n",
        "4. Transform the Item Weight(Pounds/Ounces) to Item Weight(Kg)\n",
        "5. Impute null values"
      ]
    },
    {
      "cell_type": "code",
      "metadata": {
        "id": "reJqpoNu-LEb"
      },
      "source": [
        "def drop_duplicates(dataframe):\n",
        "  dataframe = dataframe.drop_duplicates()\n",
        "  return dataframe"
      ],
      "execution_count": null,
      "outputs": []
    },
    {
      "cell_type": "code",
      "metadata": {
        "id": "zF5CLHszHCVs"
      },
      "source": [
        "def make_lowercase(dataframe, column_name):\n",
        "  dataframe[column_name] = dataframe[column_name].str.lower()\n",
        "  dataframe[column_name] = dataframe[column_name].str.lower()\n",
        "  return dataframe"
      ],
      "execution_count": null,
      "outputs": []
    },
    {
      "cell_type": "code",
      "metadata": {
        "id": "yT14uO5KWGMF"
      },
      "source": [
        "def rename_columns(dataframe, old_name, new_name):\n",
        "  return dataframe.rename(columns={old_name:new_name})"
      ],
      "execution_count": null,
      "outputs": []
    },
    {
      "cell_type": "code",
      "metadata": {
        "id": "3x6EYYijxdIe"
      },
      "source": [
        "# Taking care of Price column\n",
        "def pre_process_price(dataframe):\n",
        "  dataframe[\"Price\"] = dataframe['Price'].str.replace('$', '')\n",
        "  dataframe[\"Price\"] = dataframe.Price.str.replace(',', '')\n",
        "  dataframe[\"Price\"] = dataframe.Price.str.replace(' ', '')\n",
        "\n",
        "  dataframe['Price'] = pd.to_numeric(features['Price'])\n",
        "  dataframe['Price(Rs)'] = (dataframe.Price * 75).astype(int)\n",
        "\n",
        "  dataframe.rename(columns={\"Price\":\"PriceInDollars\"})\n",
        "  return dataframe"
      ],
      "execution_count": null,
      "outputs": []
    },
    {
      "cell_type": "code",
      "metadata": {
        "id": "lbEICYDEaU80"
      },
      "source": [
        "def preprocessing_weight(dataframe):\n",
        "  #train['Item Weight in Kg'] = train['Item Weight in Kg'].fillna(0)\n",
        "  dataframe[\"Weight(Kg)\"] = dataframe['Weight(Kg)'].str.replace('#VALUE', '0')\n",
        "  dataframe[\"Weight(Kg)\"] = dataframe['Weight(Kg)'].str.replace('0!', '0')\n",
        "  dataframe['Weight(Kg)'] = dataframe['Weight(Kg)'].astype(float, errors='raise')\n",
        "  return dataframe"
      ],
      "execution_count": null,
      "outputs": []
    },
    {
      "cell_type": "code",
      "metadata": {
        "id": "js3FB1YT0z7_"
      },
      "source": [
        "features = drop_duplicates(features)\n",
        "features = make_lowercase(features, 'Manufacturer')\n",
        "features = rename_columns(features, 'Item Weight in Kg', 'Weight(Kg)')\n",
        "features = pre_process_price(features)\n",
        "features = preprocessing_weight(features)"
      ],
      "execution_count": null,
      "outputs": []
    },
    {
      "cell_type": "code",
      "metadata": {
        "id": "Vi061uRy_bon"
      },
      "source": [
        "# As queried using SQL we observe that \"Kuman\" Brand has only Kuman Manufacturer. Hence imputing it.\n",
        "# All possible Brand names imputed by using Manufacturer names and known references, using Big query\n",
        "features.loc[((features['Brand'] == \"Kuman\"), [\"Manufacturer\"])] = \"Kuman\"\n",
        "features.loc[((features['Manufacturer'] == \"Acer America Corp.\"), [\"Manufacturer\"])] = \"Acer America Corporation\"\n",
        "\n",
        "features.loc[((features['Manufacturer'] == \"VSDISPLAY\"), [\"Brand\"])] = \"VSDISPLAY\"\n",
        "features.loc[((features['Manufacturer'] == \"NEC\"), [\"Brand\"])] = \"NEC\"\n",
        "features.loc[((features['Manufacturer'] == \"EIZO\"), [\"Brand\"])] = \"Eizo\"\n",
        "features.loc[((features['Manufacturer'] == \"STONE\"), [\"Brand\"])] = \"STONE\"\n",
        "features.loc[((features['Manufacturer'] == \"Zopsc\"), [\"Brand\"])] = \"Zopsc\"\n",
        "features.loc[((features['Manufacturer'] == \"Dicota\"), [\"Brand\"])] = \"Dicota\"\n",
        "features.loc[((features['Manufacturer'] == \"FORITO\"), [\"Brand\"])] = \"FORITO\"\n",
        "features.loc[((features['Manufacturer'] == \"Samsung\"), [\"Brand\"])] = \"Samsung\"\n",
        "features.loc[((features['Manufacturer'] == \"Sceptre\"), [\"Brand\"])] = \"Sceptre\"\n",
        "features.loc[((features['Manufacturer'] == \"Durable\"), [\"Brand\"])] = \"Durable\"\n",
        "features.loc[((features['Manufacturer'] == \"XYG-Raspberry Pi\"), [\"Brand\"])] = \"XYG-Raspberry Pi\"\n",
        "features.loc[((features['Manufacturer'] == \"Samsung\"), [\"Brand\"])] = \"Samsung\"\n",
        "features.loc[((features['Manufacturer'] == \"Jun-Electron\"), [\"Brand\"])] = \"JUN-ELECTRON\"\n",
        "features.loc[((features['Manufacturer'] == \"ViewSonic Corporation\"), [\"Brand\"])] = \"ViewSonic\"\n",
        "features.loc[((features['Manufacturer'] == \"VSDISPLAY\"), [\"Brand\"])] = \"VSDISPLAY\"\n",
        "features.loc[((features['Manufacturer'] == \"MUBUY-GOL\"), [\"Brand\"])] = \"MUBUY-GOL\"\n",
        "features.loc[((features['Manufacturer'] == \"J J-Dream\"), [\"Brand\"])] = \"J J-Dream\"\n",
        "features.loc[((features['Manufacturer'] == \"Deco Gear\"), [\"Brand\"])] = \"Deco Gear\"\n",
        "features.loc[((features['Manufacturer'] == \"Dell Computers\"), [\"Brand\"])] = \"Dell\"\n",
        "features.loc[((features['Manufacturer'] == \"Plugable\"), [\"Brand\"])] = \"Plugable\"\n",
        "features.loc[((features['Manufacturer'] == \"ORIGINAL\"), [\"Brand\"])] = \"ORIGINAL\"\n",
        "features.loc[((features['Manufacturer'] == \"LILLIPUT\"), [\"Brand\"])] = \"LILLIPUT\"\n",
        "features.loc[((features['Manufacturer'] == \"Sceptre\"), [\"Brand\"])] = \"Sceptre\"\n",
        "features.loc[((features['Manufacturer'] == \"iLooker\"), [\"Brand\"])] = \"ILooker\"\n",
        "features.loc[((features['Manufacturer'] == \"Sceptre\"), [\"Brand\"])] = \"Sceptre\"\n",
        "features.loc[((features['Manufacturer'] == \"Targus\"), [\"Brand\"])] = \"Targus\"\n",
        "features.loc[((features['Manufacturer'] == \"suptek\"), [\"Brand\"])] = \"Suptek\"\n",
        "features.loc[((features['Manufacturer'] == \"Asus\"), [\"Brand\"])] = \"Asus\""
      ],
      "execution_count": null,
      "outputs": []
    },
    {
      "cell_type": "markdown",
      "metadata": {
        "id": "6w4jln5lgwYd"
      },
      "source": [
        "## Visualizations."
      ]
    },
    {
      "cell_type": "code",
      "metadata": {
        "id": "lKf7AxgKgqCE"
      },
      "source": [
        "import matplotlib.pyplot as plt\n",
        "\n",
        "fig_size = plt.rcParams[\"figure.figsize\"]\n",
        "fig_size[0] = 20\n",
        "fig_size[1] = 8\n",
        "plt.rcParams[\"figure.figsize\"] = fig_size"
      ],
      "execution_count": null,
      "outputs": []
    },
    {
      "cell_type": "code",
      "metadata": {
        "colab": {
          "base_uri": "https://localhost:8080/",
          "height": 514
        },
        "id": "a0DKSJM-f89G",
        "outputId": "0c772635-75b0-4da6-a630-7979d761b573"
      },
      "source": [
        "# converting to log_scales as the data is highly skewed.\n",
        "sns.histplot(data=features, x='Price(Rs)')"
      ],
      "execution_count": null,
      "outputs": [
        {
          "output_type": "execute_result",
          "data": {
            "text/plain": [
              "<matplotlib.axes._subplots.AxesSubplot at 0x7f505bab1c90>"
            ]
          },
          "metadata": {},
          "execution_count": 17
        },
        {
          "output_type": "display_data",
          "data": {
            "image/png": "[encoded data removed]",
            "text/plain": [
              "<Figure size 1440x576 with 1 Axes>"
            ]
          },
          "metadata": {
            "needs_background": "light"
          }
        }
      ]
    },
    {
      "cell_type": "code",
      "metadata": {
        "colab": {
          "base_uri": "https://localhost:8080/",
          "height": 514
        },
        "id": "ff6fH2aPUc0o",
        "outputId": "a5660b56-98f3-485b-e933-d39f4707c989"
      },
      "source": [
        "sns.lineplot(x=\"Height(In)\", y=\"Price(Rs)\", data=features)"
      ],
      "execution_count": null,
      "outputs": [
        {
          "output_type": "execute_result",
          "data": {
            "text/plain": [
              "<matplotlib.axes._subplots.AxesSubplot at 0x7f505b892750>"
            ]
          },
          "metadata": {},
          "execution_count": 18
        },
        {
          "output_type": "display_data",
          "data": {
            "image/png": "[encoded data removed]",
            "text/plain": [
              "<Figure size 1440x576 with 1 Axes>"
            ]
          },
          "metadata": {
            "needs_background": "light"
          }
        }
      ]
    },
    {
      "cell_type": "code",
      "metadata": {
        "colab": {
          "base_uri": "https://localhost:8080/",
          "height": 514
        },
        "id": "BDuSvCMvgX2X",
        "outputId": "b2f04cf6-f588-403b-9b57-ced2fd2fa69d"
      },
      "source": [
        "sns.lineplot(x=\"Weight(Kg)\", y=\"Price(Rs)\", data=features)"
      ],
      "execution_count": null,
      "outputs": [
        {
          "output_type": "execute_result",
          "data": {
            "text/plain": [
              "<matplotlib.axes._subplots.AxesSubplot at 0x7f505b397150>"
            ]
          },
          "metadata": {},
          "execution_count": 19
        },
        {
          "output_type": "display_data",
          "data": {
            "image/png": "[encoded data removed]",
            "text/plain": [
              "<Figure size 1440x576 with 1 Axes>"
            ]
          },
          "metadata": {
            "needs_background": "light"
          }
        }
      ]
    },
    {
      "cell_type": "code",
      "metadata": {
        "colab": {
          "base_uri": "https://localhost:8080/",
          "height": 652
        },
        "id": "2NckEL3Tge-R",
        "outputId": "c6b52a54-9491-4796-8cda-65367d0aff4a"
      },
      "source": [
        "plt.xticks(rotation=90)\n",
        "fig_size[0] = 30\n",
        "sns.barplot(x=\"Brand\", y=\"Price(Rs)\", data=features)"
      ],
      "execution_count": null,
      "outputs": [
        {
          "output_type": "execute_result",
          "data": {
            "text/plain": [
              "<matplotlib.axes._subplots.AxesSubplot at 0x7f4ff38f4dd0>"
            ]
          },
          "metadata": {},
          "execution_count": 46
        },
        {
          "output_type": "display_data",
          "data": {
            "image/png": "[encoded data removed]",
            "text/plain": [
              "<Figure size 1440x576 with 1 Axes>"
            ]
          },
          "metadata": {
            "needs_background": "light"
          }
        }
      ]
    },
    {
      "cell_type": "markdown",
      "metadata": {
        "id": "WJSLggvEGZrl"
      },
      "source": [
        "Finally imputing all the left over empty values with NA or 0 depending on the context."
      ]
    },
    {
      "cell_type": "code",
      "metadata": {
        "id": "er-c-tF4tpO6"
      },
      "source": [
        "# Let's now impute the rest of the Brand and Manufacturer values as \"Data Not Present\"\n",
        "features['ASIN'].fillna(\"NA\", inplace=True)\n",
        "features.loc[:,'Item model number'].fillna(\"NA\", inplace=True)\n",
        "features['Brand'].fillna(\"NA\", inplace=True)\n",
        "features['Manufacturer'].fillna(\"NA\", inplace=True)"
      ],
      "execution_count": null,
      "outputs": []
    },
    {
      "cell_type": "markdown",
      "metadata": {
        "id": "hq6Fdb4x_wSu"
      },
      "source": [
        "## Now split into Train, Test and Validation sets to avoid data leakage"
      ]
    },
    {
      "cell_type": "code",
      "metadata": {
        "id": "RB2PULHT3gKt"
      },
      "source": [
        "features_X = features[['ASIN', 'Item model number', 'Weight(Kg)', 'Manufacturer',\t'Brand', 'Length(In)', 'Width(In)', 'Height(In)']]\n",
        "features_Y = features[['Price(Rs)']]"
      ],
      "execution_count": null,
      "outputs": []
    },
    {
      "cell_type": "code",
      "metadata": {
        "id": "MxYd7tPDMK5Z"
      },
      "source": [
        "from sklearn.model_selection import train_test_split\n",
        "\n",
        "#Split dataset into train, test and validation\n",
        "X_train, X_test, y_train, y_test = train_test_split(features_X, features_Y, test_size = 0.33)\n",
        "X_train, X_validation, y_train, y_validation = train_test_split(X_train, y_train, test_size = 0.33)"
      ],
      "execution_count": null,
      "outputs": []
    },
    {
      "cell_type": "markdown",
      "metadata": {
        "id": "_hELXA1F5MIJ"
      },
      "source": [
        "## Feature Engineering"
      ]
    },
    {
      "cell_type": "markdown",
      "metadata": {
        "id": "hznjqzRuIeHk"
      },
      "source": [
        "### Imputing Length, Width, Height and Weight columns by Group Mean"
      ]
    },
    {
      "cell_type": "code",
      "metadata": {
        "id": "oFZ1XHFuZ6h1"
      },
      "source": [
        "def impute_by_groupmean(dataframe, column_to_impute, reference_column):\n",
        "  dataframe[column_to_impute] = dataframe[column_to_impute].fillna(dataframe.groupby(reference_column)[column_to_impute].transform('mean'))\n",
        "  return dataframe"
      ],
      "execution_count": null,
      "outputs": []
    },
    {
      "cell_type": "code",
      "metadata": {
        "id": "f8aW6B3_Idur"
      },
      "source": [
        "X_train = impute_by_groupmean(X_train, 'Length(In)', 'Item model number')\n",
        "X_train = impute_by_groupmean(X_train, 'Width(In)', 'Item model number')\n",
        "X_train = impute_by_groupmean(X_train, 'Height(In)', 'Item model number')\n",
        "X_train = impute_by_groupmean(X_train, 'Weight(Kg)', 'Item model number')\n",
        "\n",
        "X_test = impute_by_groupmean(X_test, 'Length(In)', 'Item model number')\n",
        "X_test = impute_by_groupmean(X_test, 'Width(In)', 'Item model number')\n",
        "X_test = impute_by_groupmean(X_test, 'Height(In)', 'Item model number')\n",
        "X_test = impute_by_groupmean(X_test, 'Weight(Kg)', 'Item model number')\n",
        "\n",
        "X_validation = impute_by_groupmean(X_validation, 'Length(In)', 'Item model number')\n",
        "X_validation = impute_by_groupmean(X_validation, 'Width(In)', 'Item model number')\n",
        "X_validation = impute_by_groupmean(X_validation, 'Height(In)', 'Item model number')\n",
        "X_validation = impute_by_groupmean(X_validation, 'Weight(Kg)', 'Item model number')"
      ],
      "execution_count": null,
      "outputs": []
    },
    {
      "cell_type": "code",
      "metadata": {
        "id": "lGs8lwXIOdzw"
      },
      "source": [
        "X_train['Length(In)'].fillna(0, inplace=True)\n",
        "X_test['Length(In)'].fillna(0, inplace=True)\n",
        "X_validation['Length(In)'].fillna(0, inplace=True)\n",
        "\n",
        "X_train['Width(In)'].fillna(0, inplace=True)\n",
        "X_test['Width(In)'].fillna(0, inplace=True)\n",
        "X_validation['Width(In)'].fillna(0, inplace=True)\n",
        "\n",
        "X_train['Height(In)'].fillna(0, inplace=True)\n",
        "X_test['Height(In)'].fillna(0, inplace=True)\n",
        "X_validation['Height(In)'].fillna(0, inplace=True)\n",
        "\n",
        "X_train['Weight(Kg)'].fillna(0, inplace=True)\n",
        "X_test['Weight(Kg)'].fillna(0, inplace=True)\n",
        "X_validation['Weight(Kg)'].fillna(0, inplace=True)"
      ],
      "execution_count": null,
      "outputs": []
    },
    {
      "cell_type": "markdown",
      "metadata": {
        "id": "dE_Xxg7XJeeU"
      },
      "source": [
        "## Encoding categorical variables(Brand and Manufacturer) using Mean Encoding method. Found this really cool blog about different types of encodings here: [All about Categorical Variable encodings](https://towardsdatascience.com/all-about-categorical-variable-encoding-305f3361fd02)"
      ]
    },
    {
      "cell_type": "code",
      "metadata": {
        "id": "CKfzWVSaHrMM"
      },
      "source": [
        "def mean_encode_column(dataframe, column_to_encode, reference_column):\n",
        "  encoded_column = column_to_encode + '_mean_encoding'\n",
        "  mean_encode = dataframe.groupby(column_to_encode)[reference_column].mean()\n",
        "  dataframe.loc[:, encoded_column] = dataframe[column_to_encode].map(mean_encode)\n",
        "  return dataframe"
      ],
      "execution_count": null,
      "outputs": []
    },
    {
      "cell_type": "code",
      "metadata": {
        "id": "ypEQuuA4C0yv"
      },
      "source": [
        "def frequency_encode_column(dataframe, column_to_encode):\n",
        "  encoded_column = column_to_encode + '_frequency_encoding'\n",
        "  frequency_encode = dataframe.groupby(column_to_encode).size()/len(dataframe)\n",
        "  dataframe.loc[:, encoded_column] = features[column_to_encode].map(frequency_encode)\n",
        "  return dataframe\n"
      ],
      "execution_count": null,
      "outputs": []
    },
    {
      "cell_type": "markdown",
      "metadata": {
        "id": "CResSFLKDmOj"
      },
      "source": [
        "### Run this snippet to Mean Encode Manufacturer and Brand columns. "
      ]
    },
    {
      "cell_type": "code",
      "metadata": {
        "colab": {
          "base_uri": "https://localhost:8080/",
          "height": 424
        },
        "id": "W_VjhsdhAbRW",
        "outputId": "31e3624e-012c-44da-f99b-4dc9fd1b29e9"
      },
      "source": [
        "X_train['Price(Rs)'] = y_train['Price(Rs)']\n",
        "X_train = mean_encode_column(X_train, 'Manufacturer', 'Price(Rs)')\n",
        "X_train = mean_encode_column(X_train, 'Brand', 'Price(Rs)')\n",
        "X_train.drop('Price(Rs)', 1)\n",
        "\n",
        "X_test['Price(Rs)'] = y_test['Price(Rs)']\n",
        "X_test = mean_encode_column(X_test, 'Manufacturer', 'Price(Rs)')\n",
        "X_test = mean_encode_column(X_test, 'Brand', 'Price(Rs)')\n",
        "X_test.drop('Price(Rs)', 1)\n",
        "\n",
        "X_validation['Price(Rs)'] = y_validation['Price(Rs)']\n",
        "X_validation = mean_encode_column(X_validation, 'Manufacturer', 'Price(Rs)')\n",
        "X_validation = mean_encode_column(X_validation, 'Brand', 'Price(Rs)')\n",
        "X_validation.drop('Price(Rs)', 1)"
      ],
      "execution_count": null,
      "outputs": [
        {
          "output_type": "execute_result",
          "data": {
            "text/html": [
              "<div>\n",
              "<style scoped>\n",
              "    .dataframe tbody tr th:only-of-type {\n",
              "        vertical-align: middle;\n",
              "    }\n",
              "\n",
              "    .dataframe tbody tr th {\n",
              "        vertical-align: top;\n",
              "    }\n",
              "\n",
              "    .dataframe thead th {\n",
              "        text-align: right;\n",
              "    }\n",
              "</style>\n",
              "<table border=\"1\" class=\"dataframe\">\n",
              "  <thead>\n",
              "    <tr style=\"text-align: right;\">\n",
              "      <th></th>\n",
              "      <th>ASIN</th>\n",
              "      <th>Item model number</th>\n",
              "      <th>Weight(Kg)</th>\n",
              "      <th>Manufacturer</th>\n",
              "      <th>Brand</th>\n",
              "      <th>Length(In)</th>\n",
              "      <th>Width(In)</th>\n",
              "      <th>Height(In)</th>\n",
              "      <th>Manufacturer_mean_encoding</th>\n",
              "      <th>Brand_mean_encoding</th>\n",
              "    </tr>\n",
              "  </thead>\n",
              "  <tbody>\n",
              "    <tr>\n",
              "      <th>328</th>\n",
              "      <td>B08KFNB3YR</td>\n",
              "      <td>DGVM29PB</td>\n",
              "      <td>6.7500</td>\n",
              "      <td>deco gear</td>\n",
              "      <td>Deco Gear</td>\n",
              "      <td>27.300000</td>\n",
              "      <td>7.800000</td>\n",
              "      <td>19.5000</td>\n",
              "      <td>23249.000000</td>\n",
              "      <td>23249.000000</td>\n",
              "    </tr>\n",
              "    <tr>\n",
              "      <th>1030</th>\n",
              "      <td>B073W4MRXQ</td>\n",
              "      <td>XtremPro 11110</td>\n",
              "      <td>1.3500</td>\n",
              "      <td>htii</td>\n",
              "      <td>XtremPro</td>\n",
              "      <td>14.560000</td>\n",
              "      <td>11.360000</td>\n",
              "      <td>4.2100</td>\n",
              "      <td>1274.000000</td>\n",
              "      <td>1274.000000</td>\n",
              "    </tr>\n",
              "    <tr>\n",
              "      <th>52</th>\n",
              "      <td>B07Z8TC28F</td>\n",
              "      <td>VA24EHE</td>\n",
              "      <td>4.5000</td>\n",
              "      <td>asus</td>\n",
              "      <td>ASUS</td>\n",
              "      <td>21.280000</td>\n",
              "      <td>15.890000</td>\n",
              "      <td>8.0300</td>\n",
              "      <td>39818.650000</td>\n",
              "      <td>38511.761905</td>\n",
              "    </tr>\n",
              "    <tr>\n",
              "      <th>979</th>\n",
              "      <td>B099N65PGL</td>\n",
              "      <td>3.2inch 320x240 Touch LCD (C)</td>\n",
              "      <td>0.0422</td>\n",
              "      <td>top1</td>\n",
              "      <td>NA</td>\n",
              "      <td>0.000000</td>\n",
              "      <td>0.000000</td>\n",
              "      <td>0.0000</td>\n",
              "      <td>2755.000000</td>\n",
              "      <td>10043.599057</td>\n",
              "    </tr>\n",
              "    <tr>\n",
              "      <th>946</th>\n",
              "      <td>B01A0FEBXQ</td>\n",
              "      <td>Z35 bmiphz</td>\n",
              "      <td>11.6550</td>\n",
              "      <td>acer america corporation</td>\n",
              "      <td>Acer</td>\n",
              "      <td>33.200000</td>\n",
              "      <td>11.800000</td>\n",
              "      <td>21.8000</td>\n",
              "      <td>52499.000000</td>\n",
              "      <td>29377.125000</td>\n",
              "    </tr>\n",
              "    <tr>\n",
              "      <th>...</th>\n",
              "      <td>...</td>\n",
              "      <td>...</td>\n",
              "      <td>...</td>\n",
              "      <td>...</td>\n",
              "      <td>...</td>\n",
              "      <td>...</td>\n",
              "      <td>...</td>\n",
              "      <td>...</td>\n",
              "      <td>...</td>\n",
              "      <td>...</td>\n",
              "    </tr>\n",
              "    <tr>\n",
              "      <th>1952</th>\n",
              "      <td>B07K9KNKL3</td>\n",
              "      <td>NA</td>\n",
              "      <td>0.2120</td>\n",
              "      <td>ebestpanel</td>\n",
              "      <td>NA</td>\n",
              "      <td>9.234444</td>\n",
              "      <td>8.750278</td>\n",
              "      <td>4.0025</td>\n",
              "      <td>14894.318182</td>\n",
              "      <td>10043.599057</td>\n",
              "    </tr>\n",
              "    <tr>\n",
              "      <th>148</th>\n",
              "      <td>B07GG8RVXP</td>\n",
              "      <td>C248B-144R</td>\n",
              "      <td>2.8440</td>\n",
              "      <td>sceptre inc.</td>\n",
              "      <td>Sceptre</td>\n",
              "      <td>21.500000</td>\n",
              "      <td>15.600000</td>\n",
              "      <td>5.4000</td>\n",
              "      <td>14961.000000</td>\n",
              "      <td>22223.545455</td>\n",
              "    </tr>\n",
              "    <tr>\n",
              "      <th>1795</th>\n",
              "      <td>B07MFHJH5M</td>\n",
              "      <td>273V7QJAB</td>\n",
              "      <td>4.5000</td>\n",
              "      <td>envision</td>\n",
              "      <td>Philips Computer Monitors</td>\n",
              "      <td>24.100000</td>\n",
              "      <td>17.800000</td>\n",
              "      <td>8.9000</td>\n",
              "      <td>20456.000000</td>\n",
              "      <td>20456.000000</td>\n",
              "    </tr>\n",
              "    <tr>\n",
              "      <th>610</th>\n",
              "      <td>B08448J4G5</td>\n",
              "      <td>x27i</td>\n",
              "      <td>7.2900</td>\n",
              "      <td>hewlett packard</td>\n",
              "      <td>HP</td>\n",
              "      <td>24.060000</td>\n",
              "      <td>20.120000</td>\n",
              "      <td>8.5200</td>\n",
              "      <td>18803.333333</td>\n",
              "      <td>16789.857143</td>\n",
              "    </tr>\n",
              "    <tr>\n",
              "      <th>516</th>\n",
              "      <td>B07L6WT77H</td>\n",
              "      <td>MDS-702</td>\n",
              "      <td>0.1660</td>\n",
              "      <td>NA</td>\n",
              "      <td>NA</td>\n",
              "      <td>6.500000</td>\n",
              "      <td>4.880000</td>\n",
              "      <td>0.5900</td>\n",
              "      <td>12246.909091</td>\n",
              "      <td>10043.599057</td>\n",
              "    </tr>\n",
              "  </tbody>\n",
              "</table>\n",
              "<p>348 rows × 10 columns</p>\n",
              "</div>"
            ],
            "text/plain": [
              "            ASIN  ... Brand_mean_encoding\n",
              "328   B08KFNB3YR  ...        23249.000000\n",
              "1030  B073W4MRXQ  ...         1274.000000\n",
              "52    B07Z8TC28F  ...        38511.761905\n",
              "979   B099N65PGL  ...        10043.599057\n",
              "946   B01A0FEBXQ  ...        29377.125000\n",
              "...          ...  ...                 ...\n",
              "1952  B07K9KNKL3  ...        10043.599057\n",
              "148   B07GG8RVXP  ...        22223.545455\n",
              "1795  B07MFHJH5M  ...        20456.000000\n",
              "610   B08448J4G5  ...        16789.857143\n",
              "516   B07L6WT77H  ...        10043.599057\n",
              "\n",
              "[348 rows x 10 columns]"
            ]
          },
          "metadata": {},
          "execution_count": 29
        }
      ]
    },
    {
      "cell_type": "markdown",
      "metadata": {
        "id": "lni0_nJtDzyL"
      },
      "source": [
        "### Run this to Frequency Encode Manufacturer and Brand columns."
      ]
    },
    {
      "cell_type": "code",
      "metadata": {
        "id": "UKmfy55lDyus"
      },
      "source": [
        "X_train = frequency_encode_column(X_train, 'Manufacturer')\n",
        "X_train = frequency_encode_column(X_train, 'Brand')\n",
        "\n",
        "X_test = frequency_encode_column(X_test, 'Manufacturer')\n",
        "X_test = frequency_encode_column(X_test, 'Brand')\n",
        "\n",
        "X_validation = frequency_encode_column(X_validation, 'Manufacturer')\n",
        "X_validation = frequency_encode_column(X_validation, 'Brand')"
      ],
      "execution_count": null,
      "outputs": []
    },
    {
      "cell_type": "markdown",
      "metadata": {
        "id": "et1M6S9nNjvD"
      },
      "source": [
        "## Encoding \"ASIN\" and \"ItemModelNumber\" using Label encoding. "
      ]
    },
    {
      "cell_type": "code",
      "metadata": {
        "id": "1dpfQCVQSlnB"
      },
      "source": [
        "from sklearn.preprocessing import LabelEncoder\n",
        "def label_encoding_column(dataframe, column_to_encode):\n",
        "  encoded_column = column_to_encode + '_label_encoded'\n",
        "  dataframe[encoded_column] = LabelEncoder().fit_transform(dataframe[column_to_encode])\n",
        "  return dataframe"
      ],
      "execution_count": null,
      "outputs": []
    },
    {
      "cell_type": "code",
      "metadata": {
        "colab": {
          "base_uri": "https://localhost:8080/",
          "height": 652
        },
        "id": "FzoH0KQMEkS6",
        "outputId": "5b4eb593-c017-49ae-87a0-5a3abbbb0388"
      },
      "source": [
        "label_encoding_column(X_train, 'ASIN')\n",
        "label_encoding_column(X_train, 'Item model number')\n",
        "\n",
        "label_encoding_column(X_test, 'ASIN')\n",
        "label_encoding_column(X_test, 'Item model number')\n",
        "\n",
        "label_encoding_column(X_validation, 'ASIN')\n",
        "label_encoding_column(X_validation, 'Item model number')"
      ],
      "execution_count": null,
      "outputs": [
        {
          "output_type": "execute_result",
          "data": {
            "text/html": [
              "<div>\n",
              "<style scoped>\n",
              "    .dataframe tbody tr th:only-of-type {\n",
              "        vertical-align: middle;\n",
              "    }\n",
              "\n",
              "    .dataframe tbody tr th {\n",
              "        vertical-align: top;\n",
              "    }\n",
              "\n",
              "    .dataframe thead th {\n",
              "        text-align: right;\n",
              "    }\n",
              "</style>\n",
              "<table border=\"1\" class=\"dataframe\">\n",
              "  <thead>\n",
              "    <tr style=\"text-align: right;\">\n",
              "      <th></th>\n",
              "      <th>ASIN</th>\n",
              "      <th>Item model number</th>\n",
              "      <th>Weight(Kg)</th>\n",
              "      <th>Manufacturer</th>\n",
              "      <th>Brand</th>\n",
              "      <th>Length(In)</th>\n",
              "      <th>Width(In)</th>\n",
              "      <th>Height(In)</th>\n",
              "      <th>Price(Rs)</th>\n",
              "      <th>Manufacturer_mean_encoding</th>\n",
              "      <th>Brand_mean_encoding</th>\n",
              "      <th>Manufacturer_frequency_encoding</th>\n",
              "      <th>Brand_frequency_encoding</th>\n",
              "      <th>ASIN_label_encoded</th>\n",
              "      <th>Item model number_label_encoded</th>\n",
              "    </tr>\n",
              "  </thead>\n",
              "  <tbody>\n",
              "    <tr>\n",
              "      <th>328</th>\n",
              "      <td>B08KFNB3YR</td>\n",
              "      <td>DGVM29PB</td>\n",
              "      <td>6.7500</td>\n",
              "      <td>deco gear</td>\n",
              "      <td>Deco Gear</td>\n",
              "      <td>27.300000</td>\n",
              "      <td>7.800000</td>\n",
              "      <td>19.5000</td>\n",
              "      <td>20999</td>\n",
              "      <td>23249.000000</td>\n",
              "      <td>23249.000000</td>\n",
              "      <td>0.008621</td>\n",
              "      <td>0.008621</td>\n",
              "      <td>227</td>\n",
              "      <td>77</td>\n",
              "    </tr>\n",
              "    <tr>\n",
              "      <th>1030</th>\n",
              "      <td>B073W4MRXQ</td>\n",
              "      <td>XtremPro 11110</td>\n",
              "      <td>1.3500</td>\n",
              "      <td>htii</td>\n",
              "      <td>XtremPro</td>\n",
              "      <td>14.560000</td>\n",
              "      <td>11.360000</td>\n",
              "      <td>4.2100</td>\n",
              "      <td>1274</td>\n",
              "      <td>1274.000000</td>\n",
              "      <td>1274.000000</td>\n",
              "      <td>0.002874</td>\n",
              "      <td>0.002874</td>\n",
              "      <td>53</td>\n",
              "      <td>214</td>\n",
              "    </tr>\n",
              "    <tr>\n",
              "      <th>52</th>\n",
              "      <td>B07Z8TC28F</td>\n",
              "      <td>VA24EHE</td>\n",
              "      <td>4.5000</td>\n",
              "      <td>asus</td>\n",
              "      <td>ASUS</td>\n",
              "      <td>21.280000</td>\n",
              "      <td>15.890000</td>\n",
              "      <td>8.0300</td>\n",
              "      <td>15675</td>\n",
              "      <td>39818.650000</td>\n",
              "      <td>38511.761905</td>\n",
              "      <td>0.057471</td>\n",
              "      <td>0.060345</td>\n",
              "      <td>163</td>\n",
              "      <td>182</td>\n",
              "    </tr>\n",
              "    <tr>\n",
              "      <th>979</th>\n",
              "      <td>B099N65PGL</td>\n",
              "      <td>3.2inch 320x240 Touch LCD (C)</td>\n",
              "      <td>0.0422</td>\n",
              "      <td>top1</td>\n",
              "      <td>NA</td>\n",
              "      <td>0.000000</td>\n",
              "      <td>0.000000</td>\n",
              "      <td>0.0000</td>\n",
              "      <td>1311</td>\n",
              "      <td>2755.000000</td>\n",
              "      <td>10043.599057</td>\n",
              "      <td>0.005747</td>\n",
              "      <td>0.609195</td>\n",
              "      <td>322</td>\n",
              "      <td>25</td>\n",
              "    </tr>\n",
              "    <tr>\n",
              "      <th>946</th>\n",
              "      <td>B01A0FEBXQ</td>\n",
              "      <td>Z35 bmiphz</td>\n",
              "      <td>11.6550</td>\n",
              "      <td>acer america corporation</td>\n",
              "      <td>Acer</td>\n",
              "      <td>33.200000</td>\n",
              "      <td>11.800000</td>\n",
              "      <td>21.8000</td>\n",
              "      <td>52499</td>\n",
              "      <td>52499.000000</td>\n",
              "      <td>29377.125000</td>\n",
              "      <td>0.002874</td>\n",
              "      <td>0.045977</td>\n",
              "      <td>22</td>\n",
              "      <td>217</td>\n",
              "    </tr>\n",
              "    <tr>\n",
              "      <th>...</th>\n",
              "      <td>...</td>\n",
              "      <td>...</td>\n",
              "      <td>...</td>\n",
              "      <td>...</td>\n",
              "      <td>...</td>\n",
              "      <td>...</td>\n",
              "      <td>...</td>\n",
              "      <td>...</td>\n",
              "      <td>...</td>\n",
              "      <td>...</td>\n",
              "      <td>...</td>\n",
              "      <td>...</td>\n",
              "      <td>...</td>\n",
              "      <td>...</td>\n",
              "      <td>...</td>\n",
              "    </tr>\n",
              "    <tr>\n",
              "      <th>1952</th>\n",
              "      <td>B07K9KNKL3</td>\n",
              "      <td>NA</td>\n",
              "      <td>0.2120</td>\n",
              "      <td>ebestpanel</td>\n",
              "      <td>NA</td>\n",
              "      <td>9.234444</td>\n",
              "      <td>8.750278</td>\n",
              "      <td>4.0025</td>\n",
              "      <td>10350</td>\n",
              "      <td>14894.318182</td>\n",
              "      <td>10043.599057</td>\n",
              "      <td>0.063218</td>\n",
              "      <td>0.609195</td>\n",
              "      <td>96</td>\n",
              "      <td>143</td>\n",
              "    </tr>\n",
              "    <tr>\n",
              "      <th>148</th>\n",
              "      <td>B07GG8RVXP</td>\n",
              "      <td>C248B-144R</td>\n",
              "      <td>2.8440</td>\n",
              "      <td>sceptre inc.</td>\n",
              "      <td>Sceptre</td>\n",
              "      <td>21.500000</td>\n",
              "      <td>15.600000</td>\n",
              "      <td>5.4000</td>\n",
              "      <td>19425</td>\n",
              "      <td>14961.000000</td>\n",
              "      <td>22223.545455</td>\n",
              "      <td>0.005747</td>\n",
              "      <td>0.031609</td>\n",
              "      <td>90</td>\n",
              "      <td>65</td>\n",
              "    </tr>\n",
              "    <tr>\n",
              "      <th>1795</th>\n",
              "      <td>B07MFHJH5M</td>\n",
              "      <td>273V7QJAB</td>\n",
              "      <td>4.5000</td>\n",
              "      <td>envision</td>\n",
              "      <td>Philips Computer Monitors</td>\n",
              "      <td>24.100000</td>\n",
              "      <td>17.800000</td>\n",
              "      <td>8.9000</td>\n",
              "      <td>16163</td>\n",
              "      <td>20456.000000</td>\n",
              "      <td>20456.000000</td>\n",
              "      <td>0.005747</td>\n",
              "      <td>0.005747</td>\n",
              "      <td>106</td>\n",
              "      <td>14</td>\n",
              "    </tr>\n",
              "    <tr>\n",
              "      <th>610</th>\n",
              "      <td>B08448J4G5</td>\n",
              "      <td>x27i</td>\n",
              "      <td>7.2900</td>\n",
              "      <td>hewlett packard</td>\n",
              "      <td>HP</td>\n",
              "      <td>24.060000</td>\n",
              "      <td>20.120000</td>\n",
              "      <td>8.5200</td>\n",
              "      <td>25425</td>\n",
              "      <td>18803.333333</td>\n",
              "      <td>16789.857143</td>\n",
              "      <td>0.008621</td>\n",
              "      <td>0.020115</td>\n",
              "      <td>178</td>\n",
              "      <td>219</td>\n",
              "    </tr>\n",
              "    <tr>\n",
              "      <th>516</th>\n",
              "      <td>B07L6WT77H</td>\n",
              "      <td>MDS-702</td>\n",
              "      <td>0.1660</td>\n",
              "      <td>NA</td>\n",
              "      <td>NA</td>\n",
              "      <td>6.500000</td>\n",
              "      <td>4.880000</td>\n",
              "      <td>0.5900</td>\n",
              "      <td>6374</td>\n",
              "      <td>12246.909091</td>\n",
              "      <td>10043.599057</td>\n",
              "      <td>0.094828</td>\n",
              "      <td>0.609195</td>\n",
              "      <td>103</td>\n",
              "      <td>138</td>\n",
              "    </tr>\n",
              "  </tbody>\n",
              "</table>\n",
              "<p>348 rows × 15 columns</p>\n",
              "</div>"
            ],
            "text/plain": [
              "            ASIN  ... Item model number_label_encoded\n",
              "328   B08KFNB3YR  ...                              77\n",
              "1030  B073W4MRXQ  ...                             214\n",
              "52    B07Z8TC28F  ...                             182\n",
              "979   B099N65PGL  ...                              25\n",
              "946   B01A0FEBXQ  ...                             217\n",
              "...          ...  ...                             ...\n",
              "1952  B07K9KNKL3  ...                             143\n",
              "148   B07GG8RVXP  ...                              65\n",
              "1795  B07MFHJH5M  ...                              14\n",
              "610   B08448J4G5  ...                             219\n",
              "516   B07L6WT77H  ...                             138\n",
              "\n",
              "[348 rows x 15 columns]"
            ]
          },
          "metadata": {},
          "execution_count": 32
        }
      ]
    },
    {
      "cell_type": "code",
      "metadata": {
        "id": "Izb7YCutlxWQ"
      },
      "source": [
        "X_train_features = X_train.drop(columns=['ASIN', 'Item model number', 'Brand', 'Manufacturer'])\n",
        "X_test_features = X_test.drop(columns=['ASIN', 'Item model number', 'Brand', 'Manufacturer'])\n",
        "X_validation_features = X_validation.drop(columns=['ASIN', 'Item model number', 'Brand', 'Manufacturer'])"
      ],
      "execution_count": null,
      "outputs": []
    },
    {
      "cell_type": "code",
      "metadata": {
        "colab": {
          "base_uri": "https://localhost:8080/",
          "height": 441
        },
        "id": "5XHjOfSCo9qZ",
        "outputId": "2a6f1ea1-ca70-495e-c411-98eb90f40f48"
      },
      "source": [
        "X_train_features"
      ],
      "execution_count": null,
      "outputs": [
        {
          "output_type": "execute_result",
          "data": {
            "text/html": [
              "<div>\n",
              "<style scoped>\n",
              "    .dataframe tbody tr th:only-of-type {\n",
              "        vertical-align: middle;\n",
              "    }\n",
              "\n",
              "    .dataframe tbody tr th {\n",
              "        vertical-align: top;\n",
              "    }\n",
              "\n",
              "    .dataframe thead th {\n",
              "        text-align: right;\n",
              "    }\n",
              "</style>\n",
              "<table border=\"1\" class=\"dataframe\">\n",
              "  <thead>\n",
              "    <tr style=\"text-align: right;\">\n",
              "      <th></th>\n",
              "      <th>Weight(Kg)</th>\n",
              "      <th>Length(In)</th>\n",
              "      <th>Width(In)</th>\n",
              "      <th>Height(In)</th>\n",
              "      <th>Price(Rs)</th>\n",
              "      <th>Manufacturer_mean_encoding</th>\n",
              "      <th>Brand_mean_encoding</th>\n",
              "      <th>Manufacturer_frequency_encoding</th>\n",
              "      <th>Brand_frequency_encoding</th>\n",
              "      <th>ASIN_label_encoded</th>\n",
              "      <th>Item model number_label_encoded</th>\n",
              "    </tr>\n",
              "  </thead>\n",
              "  <tbody>\n",
              "    <tr>\n",
              "      <th>1458</th>\n",
              "      <td>0.14000</td>\n",
              "      <td>3.540000</td>\n",
              "      <td>1.180000</td>\n",
              "      <td>0.910000</td>\n",
              "      <td>1949</td>\n",
              "      <td>1949.000000</td>\n",
              "      <td>10905.875931</td>\n",
              "      <td>0.001420</td>\n",
              "      <td>0.572443</td>\n",
              "      <td>100</td>\n",
              "      <td>121</td>\n",
              "    </tr>\n",
              "    <tr>\n",
              "      <th>1191</th>\n",
              "      <td>0.01408</td>\n",
              "      <td>0.000000</td>\n",
              "      <td>0.000000</td>\n",
              "      <td>0.000000</td>\n",
              "      <td>1363</td>\n",
              "      <td>3091.800000</td>\n",
              "      <td>10905.875931</td>\n",
              "      <td>0.007102</td>\n",
              "      <td>0.572443</td>\n",
              "      <td>506</td>\n",
              "      <td>17</td>\n",
              "    </tr>\n",
              "    <tr>\n",
              "      <th>325</th>\n",
              "      <td>5.31000</td>\n",
              "      <td>22.000000</td>\n",
              "      <td>9.300000</td>\n",
              "      <td>18.000000</td>\n",
              "      <td>18749</td>\n",
              "      <td>26127.809524</td>\n",
              "      <td>27909.720930</td>\n",
              "      <td>0.059659</td>\n",
              "      <td>0.061080</td>\n",
              "      <td>385</td>\n",
              "      <td>442</td>\n",
              "    </tr>\n",
              "    <tr>\n",
              "      <th>921</th>\n",
              "      <td>3.60000</td>\n",
              "      <td>21.260000</td>\n",
              "      <td>2.560000</td>\n",
              "      <td>12.720000</td>\n",
              "      <td>14109</td>\n",
              "      <td>38880.750000</td>\n",
              "      <td>27909.720930</td>\n",
              "      <td>0.005682</td>\n",
              "      <td>0.061080</td>\n",
              "      <td>169</td>\n",
              "      <td>400</td>\n",
              "    </tr>\n",
              "    <tr>\n",
              "      <th>1688</th>\n",
              "      <td>0.45000</td>\n",
              "      <td>14.100000</td>\n",
              "      <td>0.320000</td>\n",
              "      <td>1.000000</td>\n",
              "      <td>4419</td>\n",
              "      <td>30251.708333</td>\n",
              "      <td>28953.320000</td>\n",
              "      <td>0.034091</td>\n",
              "      <td>0.035511</td>\n",
              "      <td>14</td>\n",
              "      <td>3</td>\n",
              "    </tr>\n",
              "    <tr>\n",
              "      <th>...</th>\n",
              "      <td>...</td>\n",
              "      <td>...</td>\n",
              "      <td>...</td>\n",
              "      <td>...</td>\n",
              "      <td>...</td>\n",
              "      <td>...</td>\n",
              "      <td>...</td>\n",
              "      <td>...</td>\n",
              "      <td>...</td>\n",
              "      <td>...</td>\n",
              "      <td>...</td>\n",
              "    </tr>\n",
              "    <tr>\n",
              "      <th>1315</th>\n",
              "      <td>0.84150</td>\n",
              "      <td>12.831935</td>\n",
              "      <td>10.412419</td>\n",
              "      <td>4.581774</td>\n",
              "      <td>10724</td>\n",
              "      <td>10057.402985</td>\n",
              "      <td>10905.875931</td>\n",
              "      <td>0.095170</td>\n",
              "      <td>0.572443</td>\n",
              "      <td>522</td>\n",
              "      <td>304</td>\n",
              "    </tr>\n",
              "    <tr>\n",
              "      <th>1645</th>\n",
              "      <td>0.14800</td>\n",
              "      <td>12.831935</td>\n",
              "      <td>10.412419</td>\n",
              "      <td>4.581774</td>\n",
              "      <td>3636</td>\n",
              "      <td>1961.750000</td>\n",
              "      <td>10905.875931</td>\n",
              "      <td>0.005682</td>\n",
              "      <td>0.572443</td>\n",
              "      <td>672</td>\n",
              "      <td>304</td>\n",
              "    </tr>\n",
              "    <tr>\n",
              "      <th>1159</th>\n",
              "      <td>0.30200</td>\n",
              "      <td>0.000000</td>\n",
              "      <td>0.000000</td>\n",
              "      <td>0.000000</td>\n",
              "      <td>5699</td>\n",
              "      <td>3091.800000</td>\n",
              "      <td>10905.875931</td>\n",
              "      <td>0.007102</td>\n",
              "      <td>0.572443</td>\n",
              "      <td>663</td>\n",
              "      <td>94</td>\n",
              "    </tr>\n",
              "    <tr>\n",
              "      <th>612</th>\n",
              "      <td>14.31000</td>\n",
              "      <td>28.640000</td>\n",
              "      <td>11.380000</td>\n",
              "      <td>23.500000</td>\n",
              "      <td>52425</td>\n",
              "      <td>26127.809524</td>\n",
              "      <td>27909.720930</td>\n",
              "      <td>0.059659</td>\n",
              "      <td>0.061080</td>\n",
              "      <td>453</td>\n",
              "      <td>445</td>\n",
              "    </tr>\n",
              "    <tr>\n",
              "      <th>936</th>\n",
              "      <td>0.05640</td>\n",
              "      <td>4.720000</td>\n",
              "      <td>3.150000</td>\n",
              "      <td>1.570000</td>\n",
              "      <td>2294</td>\n",
              "      <td>3606.500000</td>\n",
              "      <td>10905.875931</td>\n",
              "      <td>0.002841</td>\n",
              "      <td>0.572443</td>\n",
              "      <td>279</td>\n",
              "      <td>183</td>\n",
              "    </tr>\n",
              "  </tbody>\n",
              "</table>\n",
              "<p>704 rows × 11 columns</p>\n",
              "</div>"
            ],
            "text/plain": [
              "      Weight(Kg)  ...  Item model number_label_encoded\n",
              "1458     0.14000  ...                              121\n",
              "1191     0.01408  ...                               17\n",
              "325      5.31000  ...                              442\n",
              "921      3.60000  ...                              400\n",
              "1688     0.45000  ...                                3\n",
              "...          ...  ...                              ...\n",
              "1315     0.84150  ...                              304\n",
              "1645     0.14800  ...                              304\n",
              "1159     0.30200  ...                               94\n",
              "612     14.31000  ...                              445\n",
              "936      0.05640  ...                              183\n",
              "\n",
              "[704 rows x 11 columns]"
            ]
          },
          "metadata": {},
          "execution_count": 34
        }
      ]
    },
    {
      "cell_type": "markdown",
      "metadata": {
        "id": "yPJQKRXtkm_2"
      },
      "source": [
        "## Model Building and Training."
      ]
    },
    {
      "cell_type": "markdown",
      "metadata": {
        "id": "aKS5eKdZpr7G"
      },
      "source": [
        "###Linear Regression"
      ]
    },
    {
      "cell_type": "code",
      "metadata": {
        "id": "CdPx_DytYnrL",
        "colab": {
          "base_uri": "https://localhost:8080/"
        },
        "outputId": "52e8c543-9d9d-455f-9be6-a8bebee2d650"
      },
      "source": [
        "import numpy as np\n",
        "from sklearn.linear_model import LinearRegression\n",
        "\n",
        "reg = LinearRegression().fit(X_train_features, y_train)\n",
        "reg.score(X_train_features, y_train)"
      ],
      "execution_count": null,
      "outputs": [
        {
          "output_type": "execute_result",
          "data": {
            "text/plain": [
              "1.0"
            ]
          },
          "metadata": {},
          "execution_count": 35
        }
      ]
    },
    {
      "cell_type": "code",
      "metadata": {
        "id": "bO6IsooGlHcf"
      },
      "source": [
        "y_predicted = reg.predict(X_test_features)\n",
        "y_predicted"
      ],
      "execution_count": null,
      "outputs": []
    },
    {
      "cell_type": "code",
      "metadata": {
        "colab": {
          "base_uri": "https://localhost:8080/"
        },
        "id": "EWUjWnmfntqo",
        "outputId": "80fc6863-5bed-46bb-995d-1fdec17a80bf"
      },
      "source": [
        "from sklearn import metrics\n",
        "print('Mean Absolute Error:', metrics.mean_absolute_error(y_test, y_predicted))\n",
        "print('Mean Squared Error:', metrics.mean_squared_error(y_test,y_predicted))\n",
        "print('Root Mean Squared Error:', np.sqrt(metrics.mean_squared_error(y_test, y_predicted)))"
      ],
      "execution_count": null,
      "outputs": [
        {
          "output_type": "stream",
          "name": "stdout",
          "text": [
            "Mean Absolute Error: 5.155555708315905e-12\n",
            "Mean Squared Error: 5.585625741219182e-23\n",
            "Root Mean Squared Error: 7.473704396896616e-12\n"
          ]
        }
      ]
    },
    {
      "cell_type": "markdown",
      "metadata": {
        "id": "dohoOmg8oO4_"
      },
      "source": [
        "### Results when Brand and Manufacturer are Mean Encoded:\n",
        "Score: 1.0\n",
        "\n",
        "Mean Absolute Error: 6.981335655155346e-12\n",
        "\n",
        "Mean Squared Error: 7.56577649328822e-23\n",
        "\n",
        "Root Mean Squared Error: 8.698147212647197e-12"
      ]
    },
    {
      "cell_type": "markdown",
      "metadata": {
        "id": "u0N39o6VpT1t"
      },
      "source": [
        "### Results when Brand and Manufacturer are Frequency Encoded:\n",
        "Score: 0.42\n",
        "\n",
        "Mean Absolute Error: 7405.694906626668\n",
        "\n",
        "Mean Squared Error: 135540742.9914126\n",
        "\n",
        "Root Mean Squared Error: 11642.196656619944\n"
      ]
    },
    {
      "cell_type": "markdown",
      "metadata": {
        "id": "z9wgtUCbpvD2"
      },
      "source": [
        "### Random Forest"
      ]
    },
    {
      "cell_type": "code",
      "metadata": {
        "colab": {
          "base_uri": "https://localhost:8080/"
        },
        "id": "0SPQvAbDoOHX",
        "outputId": "9086774c-e6e0-4418-b750-7df52443ec30"
      },
      "source": [
        "from sklearn.ensemble import RandomForestRegressor\n",
        "\n",
        "regressor = RandomForestRegressor(n_estimators=200, random_state=0)\n",
        "regressor.fit(X_train_features, y_train)"
      ],
      "execution_count": null,
      "outputs": [
        {
          "output_type": "stream",
          "name": "stderr",
          "text": [
            "/usr/local/lib/python3.7/dist-packages/ipykernel_launcher.py:4: DataConversionWarning: A column-vector y was passed when a 1d array was expected. Please change the shape of y to (n_samples,), for example using ravel().\n",
            "  after removing the cwd from sys.path.\n"
          ]
        },
        {
          "output_type": "execute_result",
          "data": {
            "text/plain": [
              "RandomForestRegressor(n_estimators=200, random_state=0)"
            ]
          },
          "metadata": {},
          "execution_count": 38
        }
      ]
    },
    {
      "cell_type": "code",
      "metadata": {
        "id": "nquBYJKkp7e_"
      },
      "source": [
        "y_predicted = regressor.predict(X_test_features)"
      ],
      "execution_count": null,
      "outputs": []
    },
    {
      "cell_type": "code",
      "metadata": {
        "colab": {
          "base_uri": "https://localhost:8080/"
        },
        "id": "m3yHOgtBqHC2",
        "outputId": "a3ad55d6-53d0-4ea4-cc44-91b454d99de5"
      },
      "source": [
        "print('Mean Absolute Error:', metrics.mean_absolute_error(y_test, y_predicted))\n",
        "print('Mean Squared Error:', metrics.mean_squared_error(y_test,y_predicted))\n",
        "print('Root Mean Squared Error:', np.sqrt(metrics.mean_squared_error(y_test, y_predicted)))"
      ],
      "execution_count": null,
      "outputs": [
        {
          "output_type": "stream",
          "name": "stdout",
          "text": [
            "Mean Absolute Error: 116.44029865125249\n",
            "Mean Squared Error: 409670.1409523604\n",
            "Root Mean Squared Error: 640.0547952733112\n"
          ]
        }
      ]
    },
    {
      "cell_type": "markdown",
      "metadata": {
        "id": "v0JG0x11rFTn"
      },
      "source": [
        "### Results when Brand and Manufacturer are Mean Encoded:\n",
        "\n",
        "Mean Absolute Error: 377.01587668593453\n",
        "\n",
        "Mean Squared Error: 39409930.75191446\n",
        "\n",
        "Root Mean Squared Error: 6277.732930916579"
      ]
    },
    {
      "cell_type": "markdown",
      "metadata": {
        "id": "VHK_M89NqRb-"
      },
      "source": [
        "### Results when Brand and Manufacturer are Frequency Encoded:\n",
        "\n",
        "Mean Absolute Error: 6752.6699259582465\n",
        "\n",
        "Mean Squared Error: 156536303.4140938\n",
        "\n",
        "Root Mean Squared Error: 12511.446895307265"
      ]
    }
  ]
}